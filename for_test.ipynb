{
 "cells": [
  {
   "cell_type": "code",
   "execution_count": 1,
   "metadata": {},
   "outputs": [
    {
     "ename": "NameError",
     "evalue": "name 'list_b' is not defined",
     "output_type": "error",
     "traceback": [
      "\u001b[0;31m---------------------------------------------------------------------------\u001b[0m",
      "\u001b[0;31mNameError\u001b[0m                                 Traceback (most recent call last)",
      "Cell \u001b[0;32mIn[1], line 3\u001b[0m\n\u001b[1;32m      1\u001b[0m \u001b[39m#list_b = []\u001b[39;00m\n\u001b[1;32m      2\u001b[0m \u001b[39mfor\u001b[39;00m a \u001b[39min\u001b[39;00m \u001b[39mrange\u001b[39m(\u001b[39m3\u001b[39m):\n\u001b[0;32m----> 3\u001b[0m     \u001b[39mprint\u001b[39m(list_b)\n\u001b[1;32m      4\u001b[0m     c \u001b[39m=\u001b[39m \u001b[39m0\u001b[39m\n\u001b[1;32m      5\u001b[0m     list_a \u001b[39m=\u001b[39m []\n",
      "\u001b[0;31mNameError\u001b[0m: name 'list_b' is not defined"
     ]
    }
   ],
   "source": [
    "\n",
    "list_b = []\n",
    "for a in range(3):\n",
    "    print(list_b)\n",
    "    c = 0\n",
    "    list_a = []\n",
    "    for i in range(10):\n",
    "        c += 1\n",
    "        list_a.append(c)\n",
    "\n",
    "    list_b = list_a.copy()\n",
    "    #print(list_b)\n",
    "\n",
    "    "
   ]
  },
  {
   "cell_type": "code",
   "execution_count": 12,
   "metadata": {},
   "outputs": [
    {
     "name": "stdout",
     "output_type": "stream",
     "text": [
      "sqrt : 2.5485837703548637\n"
     ]
    }
   ],
   "source": [
    "import numpy as np\n",
    "a = [4 ,7 ,9]\n",
    "\n",
    "b = []\n",
    "\n",
    "for i in a:\n",
    "    b.append(np.sqrt(i))\n",
    "    #print(np.sqrt(i))\n",
    "\n",
    "print(f\"sqrt : {np.mean(b)}\")\n",
    "#print(np.sqrt(np.mean(a)))"
   ]
  },
  {
   "cell_type": "code",
   "execution_count": 14,
   "metadata": {},
   "outputs": [
    {
     "name": "stdout",
     "output_type": "stream",
     "text": [
      "sqrt : 6.97614984548545\n",
      "mean a : 6.666666666666667\n"
     ]
    }
   ],
   "source": [
    "import numpy as np\n",
    "a = [4 ,7 ,9]\n",
    "\n",
    "b = []\n",
    "\n",
    "for i in a:\n",
    "    b.append(i ** 2)\n",
    "    #print(np.sqrt(i))\n",
    "\n",
    "print(f\"sqrt : {np.sqrt(np.mean(b))}\")\n",
    "print(f\"mean a : {np.mean(a)}\")\n",
    "#print(np.sqrt(np.mean(a)))"
   ]
  },
  {
   "cell_type": "code",
   "execution_count": 16,
   "metadata": {},
   "outputs": [
    {
     "data": {
      "text/plain": [
       "['test_CCTV_sample1', 'mp4']"
      ]
     },
     "execution_count": 16,
     "metadata": {},
     "output_type": "execute_result"
    }
   ],
   "source": [
    "s = 'test_CCTV_sample1.mp4'\n",
    "\n",
    "s.split('.')"
   ]
  },
  {
   "cell_type": "code",
   "execution_count": 9,
   "metadata": {},
   "outputs": [
    {
     "name": "stdout",
     "output_type": "stream",
     "text": [
      "[    148.41    1096.63 3269017.37]\n"
     ]
    }
   ],
   "source": [
    "import numpy as np\n",
    "\n",
    "a = [5, 7, 15]\n",
    "\n",
    "numbers = np.round(np.exp(a), 2)\n",
    "np.set_printoptions(precision=None, suppress=True)  # 숫자를 전체로 출력하도록 설정\n",
    "\n",
    "print(numbers)\n"
   ]
  }
 ],
 "metadata": {
  "kernelspec": {
   "display_name": "base",
   "language": "python",
   "name": "python3"
  },
  "language_info": {
   "codemirror_mode": {
    "name": "ipython",
    "version": 3
   },
   "file_extension": ".py",
   "mimetype": "text/x-python",
   "name": "python",
   "nbconvert_exporter": "python",
   "pygments_lexer": "ipython3",
   "version": "3.10.9"
  },
  "orig_nbformat": 4
 },
 "nbformat": 4,
 "nbformat_minor": 2
}
