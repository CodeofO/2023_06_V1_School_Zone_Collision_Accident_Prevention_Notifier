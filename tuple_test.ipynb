{
 "cells": [
  {
   "cell_type": "code",
   "execution_count": 3,
   "metadata": {},
   "outputs": [
    {
     "name": "stdout",
     "output_type": "stream",
     "text": [
      "a1\n",
      "b1\n",
      "a2\n",
      "b2\n"
     ]
    }
   ],
   "source": [
    "tuple1 = [('a1','b1'), ('a2','b2')]\n",
    "\n",
    "for a, b in tuple1:\n",
    "    print(a)\n",
    "    print(b)"
   ]
  },
  {
   "cell_type": "code",
   "execution_count": 27,
   "metadata": {},
   "outputs": [],
   "source": [
    "import numpy as np\n",
    "\n",
    "indices = (np.array([0, 1, 2, 3, 4, 5, 6, 7]), np.array([0, 1, 2, 3, 4, 6, 8, 5]))\n",
    "#indices = [list(index) for index in indices] # 추가\n",
    "detection_indices = [0, 1, 2, 3, 4, 5, 6, 7, 8]\n",
    "track_indices = [0, 1, 2, 3, 4, 5, 6, 7]\n",
    "max_distance = 0.7\n",
    "cost_matrix = [[  0.0018762,     0.70001  ,   0.70001 ,    0.70001    , 0.70001   ,  0.70001  ,   0.70001    , 0.70001 ,    0.70001],\n",
    " [    0.70001   , 0.006192  ,   0.70001   ,  0.70001  ,   0.70001 ,    0.70001,     0.70001,     0.70001 ,    0.70001],\n",
    " [    0.70001   ,  0.70001  ,  0.010989   ,  0.70001  ,   0.70001 ,    0.70001 ,    0.70001 ,    0.70001  ,   0.70001],\n",
    " [    0.70001   ,  0.70001  ,   0.70001   , 0.033384  ,   0.70001 ,    0.70001  ,   0.70001  ,   0.70001   ,  0.70001],\n",
    " [    0.70001   ,  0.70001  ,   0.70001   ,  0.70001  ,  0.088445 ,    0.70001  ,   0.70001   ,  0.70001    , 0.70001],\n",
    " [    0.70001   ,  0.70001  ,   0.70001   ,  0.70001  ,   0.70001 ,    0.70001  ,  0.058895    , 0.70001     ,0.70001],\n",
    " [    0.70001   ,  0.70001  ,   0.70001   ,  0.70001  ,   0.70001 ,    0.70001  ,   0.70001     ,0.70001 ,    0.10829],\n",
    " [    0.70001   ,  0.70001  ,   0.70001   ,  0.70001  ,   0.70001 ,   0.098602  ,   0.70001     ,0.70001  ,   0.70001]]"
   ]
  },
  {
   "cell_type": "code",
   "execution_count": 31,
   "metadata": {},
   "outputs": [
    {
     "data": {
      "text/plain": [
       "numpy.ndarray"
      ]
     },
     "execution_count": 31,
     "metadata": {},
     "output_type": "execute_result"
    }
   ],
   "source": [
    "type(indices[0])"
   ]
  },
  {
   "cell_type": "code",
   "execution_count": 47,
   "metadata": {},
   "outputs": [],
   "source": [
    "import numpy as np\n",
    "\n",
    "indices = (np.array([0, 1, 2, 3, 4, 5, 6, 7]), np.array([0, 1, 2, 3, 4, 6, 8, 5]))\n",
    "\n",
    "matches, unmatched_tracks, unmatched_detections = [], [], []\n",
    "for col, detection_idx in enumerate(detection_indices):\n",
    "    #if col not in indices[:, 1]:\n",
    "    if col not in indices[1]:\n",
    "    #if col not in [row[1] for row in indices]: # 추가\n",
    "        unmatched_detections.append(detection_idx)\n",
    "for row, track_idx in enumerate(track_indices):\n",
    "    #if row not in indices[:, 0]:\n",
    "    if col not in indices[0]:\n",
    "    #if col not in [row[0] for row in indices]: # 추가\n",
    "        unmatched_tracks.append(track_idx)\n",
    "for row, col in zip(indices[0], indices[1]):\n",
    "    track_idx = track_indices[row]\n",
    "    detection_idx = detection_indices[col]\n",
    "    if cost_matrix[row][col] > max_distance:\n",
    "        unmatched_tracks.append(track_idx)\n",
    "        unmatched_detections.append(detection_idx)\n",
    "    else:\n",
    "        matches.append((track_idx, detection_idx))"
   ]
  },
  {
   "cell_type": "code",
   "execution_count": 46,
   "metadata": {},
   "outputs": [
    {
     "name": "stdout",
     "output_type": "stream",
     "text": [
      "0\n",
      "0\n",
      "1\n",
      "1\n",
      "2\n",
      "2\n",
      "3\n",
      "3\n",
      "4\n",
      "4\n",
      "5\n",
      "6\n",
      "6\n",
      "8\n",
      "7\n",
      "5\n"
     ]
    }
   ],
   "source": [
    "for row, col in zip(indices[0], indices[1]):\n",
    "    track_idx = track_indices[row]\n",
    "    detection_idx = detection_indices[col]\n",
    "    print(row)\n",
    "    print(col)\n",
    "    if cost_matrix[row][col] > max_distance:\n",
    "        print(cost_matrix[row, col])"
   ]
  },
  {
   "cell_type": "code",
   "execution_count": 45,
   "metadata": {},
   "outputs": [
    {
     "data": {
      "text/plain": [
       "0.0018762"
      ]
     },
     "execution_count": 45,
     "metadata": {},
     "output_type": "execute_result"
    }
   ],
   "source": [
    "cost_matrix[0][0]"
   ]
  },
  {
   "cell_type": "code",
   "execution_count": 28,
   "metadata": {},
   "outputs": [
    {
     "ename": "TypeError",
     "evalue": "list indices must be integers or slices, not tuple",
     "output_type": "error",
     "traceback": [
      "\u001b[0;31m---------------------------------------------------------------------------\u001b[0m",
      "\u001b[0;31mTypeError\u001b[0m                                 Traceback (most recent call last)",
      "Cell \u001b[0;32mIn[28], line 4\u001b[0m\n\u001b[1;32m      2\u001b[0m track_idx \u001b[39m=\u001b[39m track_indices[row]\n\u001b[1;32m      3\u001b[0m detection_idx \u001b[39m=\u001b[39m detection_indices[col]\n\u001b[0;32m----> 4\u001b[0m \u001b[39mif\u001b[39;00m cost_matrix[row, col] \u001b[39m>\u001b[39m max_distance:\n\u001b[1;32m      5\u001b[0m     unmatched_tracks\u001b[39m.\u001b[39mappend(track_idx)\n\u001b[1;32m      6\u001b[0m     unmatched_detections\u001b[39m.\u001b[39mappend(detection_idx)\n",
      "\u001b[0;31mTypeError\u001b[0m: list indices must be integers or slices, not tuple"
     ]
    }
   ],
   "source": [
    "for row, col in zip(indices[0], indices[1]):\n",
    "    track_idx = track_indices[row]\n",
    "    detection_idx = detection_indices[col]\n",
    "    if cost_matrix[row, col] > max_distance:\n",
    "        unmatched_tracks.append(track_idx)\n",
    "        unmatched_detections.append(detection_idx)\n",
    "    else:\n",
    "        matches.append((track_idx, detection_idx))"
   ]
  },
  {
   "cell_type": "code",
   "execution_count": 21,
   "metadata": {},
   "outputs": [
    {
     "data": {
      "text/plain": [
       "[[0, 1, 2, 3, 4, 5, 6, 7], [0, 1, 2, 3, 4, 6, 8, 5]]"
      ]
     },
     "execution_count": 21,
     "metadata": {},
     "output_type": "execute_result"
    }
   ],
   "source": [
    "for row, col in zip(indices[0], indices[1]):"
   ]
  }
 ],
 "metadata": {
  "kernelspec": {
   "display_name": "Python 3",
   "language": "python",
   "name": "python3"
  },
  "language_info": {
   "codemirror_mode": {
    "name": "ipython",
    "version": 3
   },
   "file_extension": ".py",
   "mimetype": "text/x-python",
   "name": "python",
   "nbconvert_exporter": "python",
   "pygments_lexer": "ipython3",
   "version": "3.11.3"
  },
  "orig_nbformat": 4
 },
 "nbformat": 4,
 "nbformat_minor": 2
}
