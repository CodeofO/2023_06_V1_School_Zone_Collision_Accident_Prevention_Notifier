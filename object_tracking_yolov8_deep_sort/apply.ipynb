{
 "cells": [
  {
   "cell_type": "code",
   "execution_count": null,
   "metadata": {},
   "outputs": [],
   "source": [
    "from def_main import YOLO_OB_OT_moving\n",
    "\n",
    "vidoe_name_list = ['test_CCTV_sample1.mp4', 'test_CCTV_sample2.mp4', 'test_CCTV_sample3.mp4', 'test_CCTV_sample4.mp4']\n",
    "\n",
    "#for name in vidoe_name_list:\n",
    "#    YOLO_OB_OT_moving(name, detection_threshold = 0.5, w=2.5)\n",
    "\n",
    "YOLO_OB_OT_moving('test_CCTV_sample3.mp4', detection_threshold = 0.5, w=2.5)"
   ]
  }
 ],
 "metadata": {
  "kernelspec": {
   "display_name": "base",
   "language": "python",
   "name": "python3"
  },
  "language_info": {
   "codemirror_mode": {
    "name": "ipython",
    "version": 3
   },
   "file_extension": ".py",
   "mimetype": "text/x-python",
   "name": "python",
   "nbconvert_exporter": "python",
   "pygments_lexer": "ipython3",
   "version": "3.10.9"
  },
  "orig_nbformat": 4
 },
 "nbformat": 4,
 "nbformat_minor": 2
}
