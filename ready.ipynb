{
 "cells": [
  {
   "cell_type": "code",
   "execution_count": 1,
   "metadata": {},
   "outputs": [
    {
     "name": "stdout",
     "output_type": "stream",
     "text": [
      "Cloning into 'object-tracking-yolov8-deep-sort'...\n",
      "remote: Enumerating objects: 14, done.\u001b[K\n",
      "remote: Counting objects: 100% (14/14), done.\u001b[K\n",
      "remote: Compressing objects: 100% (14/14), done.\u001b[K\n",
      "remote: Total 14 (delta 3), reused 4 (delta 0), pack-reused 0\u001b[K\n",
      "Receiving objects: 100% (14/14), 4.05 KiB | 2.02 MiB/s, done.\n",
      "Resolving deltas: 100% (3/3), done.\n",
      "Cloning into 'deep_sort'...\n",
      "remote: Enumerating objects: 139, done.\u001b[K\n",
      "remote: Counting objects: 100% (4/4), done.\u001b[K\n",
      "remote: Compressing objects: 100% (4/4), done.\u001b[K\n",
      "remote: Total 139 (delta 0), reused 1 (delta 0), pack-reused 135\u001b[K\n",
      "Receiving objects: 100% (139/139), 66.85 KiB | 2.30 MiB/s, done.\n",
      "Resolving deltas: 100% (76/76), done.\n",
      "Cloning into 'ultralytics'...\n",
      "remote: Enumerating objects: 9842, done.\u001b[K\n",
      "remote: Counting objects: 100% (1963/1963), done.\u001b[K\n",
      "remote: Compressing objects: 100% (973/973), done.\u001b[K\n",
      "remote: Total 9842 (delta 1302), reused 1545 (delta 986), pack-reused 7879\u001b[K\n",
      "Receiving objects: 100% (9842/9842), 6.27 MiB | 8.91 MiB/s, done.\n",
      "Resolving deltas: 100% (6614/6614), done.\n"
     ]
    }
   ],
   "source": [
    "!git clone https://github.com/computervisioneng/object-tracking-yolov8-deep-sort.git\n",
    "!git clone https://github.com/computervisioneng/deep_sort.git\n",
    "!git clone https://github.com/ultralytics/ultralytics.git"
   ]
  },
  {
   "cell_type": "code",
   "execution_count": 3,
   "metadata": {},
   "outputs": [],
   "source": [
    "import ultralytics \n",
    "import urllib3\n",
    "import wcwidth\n",
    "import werkzeug\n",
    "import wrapt\n",
    "import zipp"
   ]
  },
  {
   "cell_type": "code",
   "execution_count": 7,
   "metadata": {},
   "outputs": [
    {
     "name": "stdout",
     "output_type": "stream",
     "text": [
      "8.0.89\n",
      "1.26.15\n",
      "0.2.6\n",
      "2.2.3\n",
      "1.14.1\n"
     ]
    }
   ],
   "source": [
    "print(ultralytics.__version__)\n",
    "print(urllib3.__version__)\n",
    "print(wcwidth.__version__)\n",
    "print(werkzeug.__version__)\n",
    "print(wrapt.__version__)\n",
    "#print(zipp.__version__)"
   ]
  },
  {
   "attachments": {},
   "cell_type": "markdown",
   "metadata": {},
   "source": [
    "ultralytics==8.0.33  \n",
    "scikit-learn==0.21.0  \n",
    "tensorflow==2.11.0  \n",
    "scikit-image==0.19.3  \n",
    "filterpy==1.4.5  \n"
   ]
  },
  {
   "cell_type": "code",
   "execution_count": 11,
   "metadata": {},
   "outputs": [
    {
     "name": "stdout",
     "output_type": "stream",
     "text": [
      "1.2.1\n",
      "2.9.2\n",
      "1.4.5\n"
     ]
    }
   ],
   "source": [
    "import sklearn\n",
    "import tensorflow\n",
    "import filterpy\n",
    "\n",
    "print(sklearn.__version__)\n",
    "print(tensorflow.__version__)\n",
    "print(filterpy.__version__)"
   ]
  }
 ],
 "metadata": {
  "kernelspec": {
   "display_name": "base",
   "language": "python",
   "name": "python3"
  },
  "language_info": {
   "codemirror_mode": {
    "name": "ipython",
    "version": 3
   },
   "file_extension": ".py",
   "mimetype": "text/x-python",
   "name": "python",
   "nbconvert_exporter": "python",
   "pygments_lexer": "ipython3",
   "version": "3.10.9"
  },
  "orig_nbformat": 4
 },
 "nbformat": 4,
 "nbformat_minor": 2
}
